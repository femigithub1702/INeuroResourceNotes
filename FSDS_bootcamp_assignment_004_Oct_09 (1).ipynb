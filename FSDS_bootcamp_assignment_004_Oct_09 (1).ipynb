{
 "cells": [
  {
   "cell_type": "markdown",
   "metadata": {
    "id": "dkGbTD94s6CD"
   },
   "source": [
    "# ASSIGNMENTS \n",
    "## Send it before 0000 hrs IST or 12 AM Wednesday\n",
    "\n",
    "## NOTE: Evaluation will be done before next class.\n",
    "\n",
    "## HOW TO SUBMIT: -\n",
    "Download this notebook, Solve it and upload in the google form given in the mail."
   ]
  },
  {
   "cell_type": "markdown",
   "metadata": {
    "id": "n3FuI-mutNl6"
   },
   "source": [
    "## control flow and conditional statements"
   ]
  },
  {
   "cell_type": "markdown",
   "metadata": {
    "id": "NCW2epdyuJ-a"
   },
   "source": [
    "Q1. Find the largest number from the given list, use for loop.\n",
    "\n",
    "```\n",
    "numbers = [12, 75, 150, 180, 145, 525, 50]\n",
    "```"
   ]
  },
  {
   "cell_type": "markdown",
   "metadata": {
    "id": "Qsg0i1fTwEQj"
   },
   "source": [
    "Q2. Print all the even number between (1, 12)."
   ]
  },
  {
   "cell_type": "markdown",
   "metadata": {
    "id": "WG2QcDDhwi4a"
   },
   "source": [
    "Q3. Calculate the sum of all numbers from 1 to a given number\n",
    "    \n",
    "    Expected Output:\n",
    "\n",
    "    Enter number 10\n",
    "    \n",
    "    Sum is:  55\n"
   ]
  },
  {
   "cell_type": "markdown",
   "metadata": {
    "id": "mc7lLUm5f4Cq"
   },
   "source": [
    "Q4. Write a program to display only those numbers from a list that satisfy the following conditions\n",
    "\n",
    "- The number must be divisible by five\n",
    "\n",
    "- If the number is greater than 150, then skip it and move to the next number\n",
    "\n",
    "- If the number is greater than 500, then stop the loop"
   ]
  },
  {
   "cell_type": "code",
   "execution_count": null,
   "metadata": {
    "id": "P3Ct2ocKf6Hy"
   },
   "outputs": [],
   "source": [
    "# Given:\n",
    "\n",
    "numbers = [12, 75, 150, 180, 145, 525, 50]"
   ]
  },
  {
   "cell_type": "markdown",
   "metadata": {
    "id": "rrxWvy7nMnAs"
   },
   "source": [
    "Q5. Print the given list in reverse order.\n",
    "\n",
    "```\n",
    "list1 = [10, 20, 30, 40, 50]\n",
    "```"
   ]
  },
  {
   "cell_type": "code",
   "execution_count": 39,
   "metadata": {
    "id": "z-GDgPn3Nr0y"
   },
   "outputs": [
    {
     "name": "stdout",
     "output_type": "stream",
     "text": [
      "Largest element is:  525\n"
     ]
    }
   ],
   "source": [
    "#Q1. Find the largest number from the given list, use for loop.\n",
    "\n",
    "numbers = [12, 75, 150, 180, 145, 525, 50]\n",
    "\n",
    "\n",
    "# variable to store largest number\n",
    "max = numbers[0] \n",
    "\n",
    "# find largest number\n",
    "for i in numbers:\n",
    "    if i > max:\n",
    "        max = i\n",
    "\n",
    "print(\"Largest element is: \", max)\n",
    " \n",
    "    \n",
    "  "
   ]
  },
  {
   "cell_type": "code",
   "execution_count": 12,
   "metadata": {},
   "outputs": [
    {
     "name": "stdout",
     "output_type": "stream",
     "text": [
      "2\n",
      "4\n",
      "6\n",
      "8\n",
      "10\n",
      "12\n"
     ]
    }
   ],
   "source": [
    "#Q2. Print all the even number between (1, 12).\n",
    "for num in range(1,13):\n",
    "    if num%2==0:\n",
    "        print (num)"
   ]
  },
  {
   "cell_type": "code",
   "execution_count": 36,
   "metadata": {},
   "outputs": [
    {
     "name": "stdout",
     "output_type": "stream",
     "text": [
      "Enter number10\n",
      "Sum of numbers is:  1\n",
      "Sum of numbers is:  3\n",
      "Sum of numbers is:  6\n",
      "Sum of numbers is:  10\n",
      "Sum of numbers is:  15\n",
      "Sum of numbers is:  21\n",
      "Sum of numbers is:  28\n",
      "Sum of numbers is:  36\n",
      "Sum of numbers is:  45\n",
      "Sum of numbers is:  55\n"
     ]
    }
   ],
   "source": [
    "#Q3. Calculate the sum of all numbers from 1 to a given number\n",
    "\n",
    "#Expected Output:\n",
    "\n",
    "#Enter number 10\n",
    "\n",
    "#Sum is:  55\n",
    "\n",
    "n = int(input(\"Enter number\"))\n",
    "sum = 0\n",
    "for n in range(1, n + 1, 1):\n",
    "    sum = sum + n\n",
    "    print(\"Sum of numbers is: \", sum)\n",
    "\n",
    "    "
   ]
  },
  {
   "cell_type": "code",
   "execution_count": 30,
   "metadata": {},
   "outputs": [
    {
     "name": "stdout",
     "output_type": "stream",
     "text": [
      "[70, 150, 135, 125]\n"
     ]
    }
   ],
   "source": [
    "#Q4. Write a program to display only those numbers from a list that satisfy the following conditions\n",
    "\n",
    "#The number must be divisible by five\n",
    "\n",
    "#If the number is greater than 150, then skip it and move to the next number\n",
    "\n",
    "#If the number is greater than 500, then stop the loop\n",
    "\n",
    "list = [16, 70, 160,150, 210, 135,125, 535, 45]\n",
    "a = []\n",
    "for i in list:\n",
    "    if i > 150:\n",
    "        if i > 500:\n",
    "            break\n",
    "        continue\n",
    "    if i % 5 == 0:\n",
    "        a.append(i)\n",
    "        \n",
    "print(a)       \n",
    "            \n",
    "        "
   ]
  },
  {
   "cell_type": "code",
   "execution_count": 16,
   "metadata": {},
   "outputs": [
    {
     "name": "stdout",
     "output_type": "stream",
     "text": [
      "[50, 40, 30, 20, 10]\n"
     ]
    }
   ],
   "source": [
    "#Q5. Print the given list in reverse order.\n",
    "\n",
    "list1 = [10, 20, 30, 40, 50]\n",
    "\n",
    "list1.reverse()\n",
    "print(list1)"
   ]
  },
  {
   "cell_type": "code",
   "execution_count": null,
   "metadata": {},
   "outputs": [],
   "source": []
  }
 ],
 "metadata": {
  "colab": {
   "collapsed_sections": [],
   "provenance": []
  },
  "kernelspec": {
   "display_name": "Python 3",
   "language": "python",
   "name": "python3"
  },
  "language_info": {
   "codemirror_mode": {
    "name": "ipython",
    "version": 3
   },
   "file_extension": ".py",
   "mimetype": "text/x-python",
   "name": "python",
   "nbconvert_exporter": "python",
   "pygments_lexer": "ipython3",
   "version": "3.8.5"
  }
 },
 "nbformat": 4,
 "nbformat_minor": 1
}
