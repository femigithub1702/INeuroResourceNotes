{
 "cells": [
  {
   "cell_type": "markdown",
   "metadata": {
    "id": "cyOfbWCdOjEr"
   },
   "source": [
    "# ASSIGNMENTS - Compulsory\n",
    "## Send it before 0000 hrs IST or 12 AM Wednesday\n",
    "\n",
    "## NOTE: Evaluation will be done before next class.\n",
    "\n",
    "## HOW TO SUBMIT: -\n",
    "Download this notebook, Solve it and upload in the google form given in the mail."
   ]
  },
  {
   "cell_type": "markdown",
   "metadata": {
    "id": "GT4IytkJMNa-"
   },
   "source": [
    "## Python String Manipulation\n",
    "\n",
    "1. Count the number of times `iNeuron` appears in the string.\n",
    "```python\n",
    "text = \"Welcome to iNeuron, You are a part of FSDS Bootcamp 2 in iNeuron. I hope you are enjoying the course by iNeuron\"\n",
    "```\n",
    "\n",
    "text = \"Welcome to iNeuron, You are a part of FSDS Bootcamp 2 in iNeuron. I hope you are enjoying the course by iNeuron\"\n",
    "text.count('iNeuron')\n",
    "3\n",
    "\n",
    "2. Check if position `5` to `11` ends with the phrase `iNeuron.` in the string \n",
    "```python\n",
    "txt = \"Hello, welcome to FSDS 2.0 at iNeuron.\"\n",
    "```\n",
    "3. Write a program that takes your full name as input and displays the abbreviations of the first and middle names except the last name which is displayed as it is. For example, if your name is Sunny Bhaveen Chandra, then the output should be S.B.Chandra.\n",
    "\n",
    "4. Join all items in a list into a string, using a hash(`#`) character as separator:\n",
    "```python\n",
    "LIST = [\"My\", \"name\", \"is\", \"Rishav\", \"Dash\"]\n",
    "```\n",
    "5. Write example for the following string manipulation function,\n",
    "\n",
    "  ```\n",
    "  - isdecimal()\n",
    "  - islower()\n",
    "  - isupper()\n",
    "  - isalpha()\n",
    "  - isnumeric()\n",
    "\n",
    "  ```\n",
    "6. Indian PAN card format follows the following formats - \n",
    "    - `AYEPC7894X`\n",
    "    - `ABCDE9999Y`\n",
    "  Take user input for PAN_CARD and validate as per the above example.\n"
   ]
  },
  {
   "cell_type": "code",
   "execution_count": 3,
   "metadata": {
    "id": "KwVni9gipNi-"
   },
   "outputs": [
    {
     "data": {
      "text/plain": [
       "3"
      ]
     },
     "execution_count": 3,
     "metadata": {},
     "output_type": "execute_result"
    }
   ],
   "source": [
    "#1. Count the number of times `iNeuron` appears in the string.\n",
    "text = \"Welcome to iNeuron, You are a part of FSDS Bootcamp 2 in iNeuron. I hope you are enjoying the course by iNeuron\"\n",
    "text.count('iNeuron')"
   ]
  },
  {
   "cell_type": "code",
   "execution_count": 5,
   "metadata": {},
   "outputs": [
    {
     "data": {
      "text/plain": [
       "', welc'"
      ]
     },
     "execution_count": 5,
     "metadata": {},
     "output_type": "execute_result"
    }
   ],
   "source": [
    "#2. Check if position `5` to `11` ends with the phrase `iNeuron.` in the string \n",
    "\n",
    "txt = \"Hello, welcome to FSDS 2.0 at iNeuron.\"\n",
    "txt[5:11]\n"
   ]
  },
  {
   "cell_type": "code",
   "execution_count": 65,
   "metadata": {},
   "outputs": [
    {
     "name": "stdout",
     "output_type": "stream",
     "text": [
      "Enter your Full  name: femina hidaya nisaa\n",
      "f h nisaa\n"
     ]
    }
   ],
   "source": [
    "#3. Write a program that takes your full name as input and displays the abbreviations of the first and middle names \n",
    "#except the last name which is displayed as it is. For example, if your name is Sunny Bhaveen Chandra, \n",
    "#then the output should be S.B.Chandra.\n",
    "\n",
    "name= (input (\"Enter your Full  name: \"))\n",
    "list1=name.split(\" \")\n",
    "\n",
    "\n",
    "list2=print(list1[0][0],list1[1][0],list1[2])\n",
    "\n"
   ]
  },
  {
   "cell_type": "code",
   "execution_count": 100,
   "metadata": {},
   "outputs": [
    {
     "name": "stdout",
     "output_type": "stream",
     "text": [
      "Enter your full name: sunny bhaveen chandra\n",
      " S.B.chandra\n"
     ]
    }
   ],
   "source": [
    "name=input(\"Enter your full name: \")\n",
    "c=name.split(\" \")\n",
    "c1=c[0][0].upper()\n",
    "c2= c[1][0].upper()\n",
    "\n",
    "c3=c[2]\n",
    "\n",
    "print(f\" {c1}.{c2}.{c3}\")\n",
    "\n",
    "\n",
    "\n"
   ]
  },
  {
   "cell_type": "code",
   "execution_count": 78,
   "metadata": {},
   "outputs": [
    {
     "ename": "SyntaxError",
     "evalue": "invalid syntax (<ipython-input-78-6953470e9d0c>, line 1)",
     "output_type": "error",
     "traceback": [
      "\u001b[1;36m  File \u001b[1;32m\"<ipython-input-78-6953470e9d0c>\"\u001b[1;36m, line \u001b[1;32m1\u001b[0m\n\u001b[1;33m    4. Join all items in a list into a string, using a hash(`#`) character as separator:\u001b[0m\n\u001b[1;37m       ^\u001b[0m\n\u001b[1;31mSyntaxError\u001b[0m\u001b[1;31m:\u001b[0m invalid syntax\n"
     ]
    }
   ],
   "source": [
    "4. Join all items in a list into a string, using a hash(`#`) character as separator:\n",
    "\n",
    "LIST = [\"My\", \"name\", \"is\", \"Rishav\", \"Dash\"]\n",
    "                                                        \n",
    "\"#\".join(LIST)                                                        "
   ]
  },
  {
   "cell_type": "code",
   "execution_count": null,
   "metadata": {},
   "outputs": [],
   "source": [
    "#5. Write example for the following string manipulation function,\n",
    "\n",
    " \n",
    " # - isdecimal()\n",
    "A=(input(\"enter Something : \")\n",
    "A.isdecimal()   \n",
    "\n",
    "   \n",
    "#  - islower()\n",
    "A=input(\"enter something: \")\n",
    "A.islower() \n",
    "   \n",
    "#  - isupper()\n",
    "A=input(\"enter something: \")\n",
    "A.isupper()  \n",
    "   \n",
    "#  - isalpha()\n",
    "   \n",
    "#  - isnumeric()\n",
    "\n",
    " "
   ]
  },
  {
   "cell_type": "code",
   "execution_count": null,
   "metadata": {},
   "outputs": [],
   "source": [
    "#6. Indian PAN card format follows the following formats - \n",
    "#    - `AYEPC7894X`\n",
    "#    - `ABCDE9999Y`\n",
    "#  Take user input for PAN_CARD and validate as per the above example.\n",
    "\n",
    "PAN_NO= (input(\"Enter your pan num: \"))\n",
    "PAN_NO.isalnum()\n",
    "\n"
   ]
  },
  {
   "cell_type": "code",
   "execution_count": 44,
   "metadata": {},
   "outputs": [
    {
     "name": "stdout",
     "output_type": "stream",
     "text": [
      "enter something: Femi\n"
     ]
    },
    {
     "data": {
      "text/plain": [
       "False"
      ]
     },
     "execution_count": 44,
     "metadata": {},
     "output_type": "execute_result"
    }
   ],
   "source": [
    "A=input(\"enter something: \")\n",
    "A.islower()\n"
   ]
  },
  {
   "cell_type": "code",
   "execution_count": 45,
   "metadata": {},
   "outputs": [
    {
     "name": "stdout",
     "output_type": "stream",
     "text": [
      "enter something: SDF\n"
     ]
    },
    {
     "data": {
      "text/plain": [
       "True"
      ]
     },
     "execution_count": 45,
     "metadata": {},
     "output_type": "execute_result"
    }
   ],
   "source": [
    "A=input(\"enter something: \")\n",
    "A.isupper()"
   ]
  },
  {
   "cell_type": "code",
   "execution_count": 52,
   "metadata": {},
   "outputs": [
    {
     "name": "stdout",
     "output_type": "stream",
     "text": [
      "enter something: sfhg5\n"
     ]
    },
    {
     "ename": "AttributeError",
     "evalue": "'str' object has no attribute 'alnum'",
     "output_type": "error",
     "traceback": [
      "\u001b[1;31m---------------------------------------------------------------------------\u001b[0m",
      "\u001b[1;31mAttributeError\u001b[0m                            Traceback (most recent call last)",
      "\u001b[1;32m<ipython-input-52-5b06e6b064a0>\u001b[0m in \u001b[0;36m<module>\u001b[1;34m\u001b[0m\n\u001b[0;32m      1\u001b[0m \u001b[0mA\u001b[0m\u001b[1;33m=\u001b[0m\u001b[0minput\u001b[0m\u001b[1;33m(\u001b[0m\u001b[1;34mf\"enter something: \"\u001b[0m\u001b[1;33m)\u001b[0m\u001b[1;33m\u001b[0m\u001b[1;33m\u001b[0m\u001b[0m\n\u001b[1;32m----> 2\u001b[1;33m \u001b[0mA\u001b[0m\u001b[1;33m.\u001b[0m\u001b[0malnum\u001b[0m\u001b[1;33m(\u001b[0m\u001b[1;33m)\u001b[0m\u001b[1;33m\u001b[0m\u001b[1;33m\u001b[0m\u001b[0m\n\u001b[0m",
      "\u001b[1;31mAttributeError\u001b[0m: 'str' object has no attribute 'alnum'"
     ]
    }
   ],
   "source": [
    "A=input(f\"enter something: \")\n",
    "A.alnum()"
   ]
  },
  {
   "cell_type": "code",
   "execution_count": 51,
   "metadata": {},
   "outputs": [
    {
     "name": "stdout",
     "output_type": "stream",
     "text": [
      "enter something: 45\n"
     ]
    },
    {
     "data": {
      "text/plain": [
       "True"
      ]
     },
     "execution_count": 51,
     "metadata": {},
     "output_type": "execute_result"
    }
   ],
   "source": [
    "A=input(\"enter something: \")\n",
    "\n",
    "A.isnumeric()\n",
    "\n"
   ]
  },
  {
   "cell_type": "code",
   "execution_count": null,
   "metadata": {},
   "outputs": [],
   "source": []
  }
 ],
 "metadata": {
  "colab": {
   "collapsed_sections": [],
   "provenance": []
  },
  "kernelspec": {
   "display_name": "Python 3",
   "language": "python",
   "name": "python3"
  },
  "language_info": {
   "codemirror_mode": {
    "name": "ipython",
    "version": 3
   },
   "file_extension": ".py",
   "mimetype": "text/x-python",
   "name": "python",
   "nbconvert_exporter": "python",
   "pygments_lexer": "ipython3",
   "version": "3.8.5"
  }
 },
 "nbformat": 4,
 "nbformat_minor": 1
}
